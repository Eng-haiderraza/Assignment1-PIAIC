{
 "cells": [
  {
   "cell_type": "code",
   "execution_count": 9,
   "metadata": {},
   "outputs": [],
   "source": [
    "Name='my NaMe iS'"
   ]
  },
  {
   "cell_type": "code",
   "execution_count": 6,
   "metadata": {
    "scrolled": true
   },
   "outputs": [],
   "source": [
    "myfirststring='it is my string'\n"
   ]
  },
  {
   "cell_type": "code",
   "execution_count": 7,
   "metadata": {},
   "outputs": [
    {
     "name": "stdout",
     "output_type": "stream",
     "text": [
      "it is my string\n"
     ]
    }
   ],
   "source": [
    "print(myfirststring)"
   ]
  },
  {
   "cell_type": "code",
   "execution_count": 15,
   "metadata": {},
   "outputs": [
    {
     "data": {
      "text/plain": [
       "'My name is'"
      ]
     },
     "execution_count": 15,
     "metadata": {},
     "output_type": "execute_result"
    }
   ],
   "source": [
    "#Use of String Functions\n",
    "# Capitalize\n",
    "Name.capitalize()"
   ]
  },
  {
   "cell_type": "code",
   "execution_count": 16,
   "metadata": {},
   "outputs": [
    {
     "data": {
      "text/plain": [
       "'MY NAME IS'"
      ]
     },
     "execution_count": 16,
     "metadata": {},
     "output_type": "execute_result"
    }
   ],
   "source": [
    "#Uppercase\n",
    "Name.upper()"
   ]
  },
  {
   "cell_type": "code",
   "execution_count": 20,
   "metadata": {},
   "outputs": [
    {
     "data": {
      "text/plain": [
       "'my name is'"
      ]
     },
     "execution_count": 20,
     "metadata": {},
     "output_type": "execute_result"
    }
   ],
   "source": [
    "Name.lower()"
   ]
  },
  {
   "cell_type": "code",
   "execution_count": 14,
   "metadata": {},
   "outputs": [
    {
     "name": "stdout",
     "output_type": "stream",
     "text": [
      "This is a TEST Message\n"
     ]
    }
   ],
   "source": [
    "#encoding\n",
    "#assume you want to send a message and want to encode it\n",
    "message='This is a TEST Message'\n",
    "print(message)"
   ]
  },
  {
   "cell_type": "code",
   "execution_count": 16,
   "metadata": {},
   "outputs": [
    {
     "name": "stdout",
     "output_type": "stream",
     "text": [
      "b'\\xff\\xfeT\\x00h\\x00i\\x00s\\x00 \\x00i\\x00s\\x00 \\x00a\\x00 \\x00T\\x00E\\x00S\\x00T\\x00 \\x00M\\x00e\\x00s\\x00s\\x00a\\x00g\\x00e\\x00'\n"
     ]
    }
   ],
   "source": [
    "print(message.encode(encoding='utf-16'))"
   ]
  },
  {
   "cell_type": "code",
   "execution_count": 21,
   "metadata": {},
   "outputs": [
    {
     "name": "stdout",
     "output_type": "stream",
     "text": [
      "b'\\xff\\xfe\\x00\\x00T\\x00\\x00\\x00h\\x00\\x00\\x00i\\x00\\x00\\x00s\\x00\\x00\\x00 \\x00\\x00\\x00i\\x00\\x00\\x00s\\x00\\x00\\x00 \\x00\\x00\\x00a\\x00\\x00\\x00 \\x00\\x00\\x00T\\x00\\x00\\x00E\\x00\\x00\\x00S\\x00\\x00\\x00T\\x00\\x00\\x00 \\x00\\x00\\x00M\\x00\\x00\\x00e\\x00\\x00\\x00s\\x00\\x00\\x00s\\x00\\x00\\x00a\\x00\\x00\\x00g\\x00\\x00\\x00e\\x00\\x00\\x00'\n"
     ]
    }
   ],
   "source": [
    "print(message.encode(encoding='utf-32'))"
   ]
  },
  {
   "cell_type": "code",
   "execution_count": 22,
   "metadata": {},
   "outputs": [
    {
     "name": "stdout",
     "output_type": "stream",
     "text": [
      "this is a test message\n"
     ]
    }
   ],
   "source": [
    "# casefold()  Return a version of the string suitable for caseless comparisons.\n",
    "print(message.casefold())"
   ]
  },
  {
   "cell_type": "code",
   "execution_count": 30,
   "metadata": {},
   "outputs": [
    {
     "name": "stdout",
     "output_type": "stream",
     "text": [
      "This is a TEST Message\n"
     ]
    },
    {
     "data": {
      "text/plain": [
       "2"
      ]
     },
     "execution_count": 30,
     "metadata": {},
     "output_type": "execute_result"
    }
   ],
   "source": [
    "#count this command counts the number of occurences \n",
    "print(message)\n",
    "message.count('a')"
   ]
  },
  {
   "cell_type": "code",
   "execution_count": 35,
   "metadata": {},
   "outputs": [
    {
     "data": {
      "text/plain": [
       "False"
      ]
     },
     "execution_count": 35,
     "metadata": {},
     "output_type": "execute_result"
    }
   ],
   "source": [
    "# endswith()  Return True if message(any variable) ends with the specified suffix, False otherwise.\n",
    "message.endswith('r')"
   ]
  },
  {
   "cell_type": "code",
   "execution_count": 34,
   "metadata": {},
   "outputs": [
    {
     "data": {
      "text/plain": [
       "True"
      ]
     },
     "execution_count": 34,
     "metadata": {},
     "output_type": "execute_result"
    }
   ],
   "source": [
    "#endswith eexample\n",
    "z='123456'\n",
    "z.endswith('6')"
   ]
  },
  {
   "cell_type": "code",
   "execution_count": 50,
   "metadata": {},
   "outputs": [
    {
     "name": "stdout",
     "output_type": "stream",
     "text": [
      "In this\t \tExample \twe will \ttest tab\n"
     ]
    }
   ],
   "source": [
    "#assigntab\n",
    "sentence=\"In this\\t \\tExample \\twe will \\ttest tab\"\n",
    "print(sentence)"
   ]
  },
  {
   "cell_type": "code",
   "execution_count": 54,
   "metadata": {},
   "outputs": [
    {
     "data": {
      "text/plain": [
       "'In this              Example            we will             test tab'"
      ]
     },
     "execution_count": 54,
     "metadata": {},
     "output_type": "execute_result"
    }
   ],
   "source": [
    "# expandtabs() to give specific spaces between two\n",
    "sentence=\"In this\\t Example \\twe will \\ttest tab\"\n",
    "sentence.expandtabs(tabsize=20)"
   ]
  },
  {
   "cell_type": "code",
   "execution_count": 55,
   "metadata": {},
   "outputs": [
    {
     "name": "stdout",
     "output_type": "stream",
     "text": [
      "True\n"
     ]
    }
   ],
   "source": [
    "spaces = '   '\n",
    "print(spaces.isspace()) # checks if there are all spaces > True"
   ]
  },
  {
   "cell_type": "code",
   "execution_count": 67,
   "metadata": {},
   "outputs": [
    {
     "data": {
      "text/plain": [
       "False"
      ]
     },
     "execution_count": 67,
     "metadata": {},
     "output_type": "execute_result"
    }
   ],
   "source": [
    "# checks if all words starts with capital letters and returns true > True\n",
    "Name.istitle()"
   ]
  },
  {
   "cell_type": "code",
   "execution_count": 70,
   "metadata": {},
   "outputs": [
    {
     "data": {
      "text/plain": [
       "False"
      ]
     },
     "execution_count": 70,
     "metadata": {},
     "output_type": "execute_result"
    }
   ],
   "source": [
    "# it will return false because all are not uppercase > False\n",
    "Name.isupper()"
   ]
  },
  {
   "cell_type": "code",
   "execution_count": 101,
   "metadata": {},
   "outputs": [
    {
     "data": {
      "text/plain": [
       "60"
      ]
     },
     "execution_count": 101,
     "metadata": {},
     "output_type": "execute_result"
    }
   ],
   "source": [
    "#Index\n",
    "name=('ABC',50,60,'A',30,'X')\n",
    "name[2]\n",
    "\n",
    "          "
   ]
  },
  {
   "cell_type": "code",
   "execution_count": 102,
   "metadata": {},
   "outputs": [
    {
     "name": "stdout",
     "output_type": "stream",
     "text": [
      "('ABC', 50)\n"
     ]
    }
   ],
   "source": [
    "#slicing1\n",
    "print(name[0:2])"
   ]
  },
  {
   "cell_type": "code",
   "execution_count": 103,
   "metadata": {},
   "outputs": [
    {
     "name": "stdout",
     "output_type": "stream",
     "text": [
      "(60, 'A', 30)\n"
     ]
    }
   ],
   "source": [
    "#slicing2\n",
    "print(name[2:5])"
   ]
  },
  {
   "cell_type": "code",
   "execution_count": 106,
   "metadata": {},
   "outputs": [
    {
     "data": {
      "text/plain": [
       "(50, 'A', 'X')"
      ]
     },
     "execution_count": 106,
     "metadata": {},
     "output_type": "execute_result"
    }
   ],
   "source": [
    "#slicing3 using step size\n",
    "name[1:6:2]"
   ]
  },
  {
   "cell_type": "code",
   "execution_count": 110,
   "metadata": {},
   "outputs": [
    {
     "data": {
      "text/plain": [
       "('A', 30, 'X')"
      ]
     },
     "execution_count": 110,
     "metadata": {},
     "output_type": "execute_result"
    }
   ],
   "source": [
    "#slicing4 \n",
    "name[3::]"
   ]
  },
  {
   "cell_type": "code",
   "execution_count": 116,
   "metadata": {},
   "outputs": [
    {
     "name": "stdout",
     "output_type": "stream",
     "text": [
      "('I am writing this ', 'sentence', ' to check partition function')\n"
     ]
    }
   ],
   "source": [
    "sentence3='I am writing this sentence to check partition function'\n",
    "sentence2=sentence3.partition('sentence')\n",
    "print(sentence2)"
   ]
  },
  {
   "cell_type": "code",
   "execution_count": 122,
   "metadata": {},
   "outputs": [
    {
     "data": {
      "text/plain": [
       "9"
      ]
     },
     "execution_count": 122,
     "metadata": {},
     "output_type": "execute_result"
    }
   ],
   "source": [
    "# split changes string into list\n",
    "len(sentence3)"
   ]
  },
  {
   "cell_type": "code",
   "execution_count": 124,
   "metadata": {},
   "outputs": [
    {
     "data": {
      "text/plain": [
       "['I am writing', ' this sentence', ' to check split', ' function']"
      ]
     },
     "execution_count": 124,
     "metadata": {},
     "output_type": "execute_result"
    }
   ],
   "source": [
    "sentence3='I am writing, this sentence, to check split, function'\n",
    "sentence3.split(',')"
   ]
  },
  {
   "cell_type": "code",
   "execution_count": 126,
   "metadata": {},
   "outputs": [
    {
     "data": {
      "text/plain": [
       "'I am writing, this suntuncu, to chuck split, function'"
      ]
     },
     "execution_count": 126,
     "metadata": {},
     "output_type": "execute_result"
    }
   ],
   "source": [
    "sentence3.replace('e','u')"
   ]
  },
  {
   "cell_type": "code",
   "execution_count": 129,
   "metadata": {},
   "outputs": [
    {
     "data": {
      "text/plain": [
       "['I',\n",
       " 'am',\n",
       " 'writing,',\n",
       " 'this',\n",
       " 'sentence,',\n",
       " 'to',\n",
       " 'check',\n",
       " 'split,',\n",
       " 'function']"
      ]
     },
     "execution_count": 129,
     "metadata": {},
     "output_type": "execute_result"
    }
   ],
   "source": [
    "sentence3.split(' ')"
   ]
  },
  {
   "cell_type": "code",
   "execution_count": 130,
   "metadata": {},
   "outputs": [
    {
     "data": {
      "text/plain": [
       "2"
      ]
     },
     "execution_count": 130,
     "metadata": {},
     "output_type": "execute_result"
    }
   ],
   "source": [
    "sentence3.find('am')"
   ]
  },
  {
   "cell_type": "code",
   "execution_count": 134,
   "metadata": {},
   "outputs": [
    {
     "name": "stdout",
     "output_type": "stream",
     "text": [
      "2\n",
      "2222\n",
      "25\n",
      "you bought 2 pieces of item 2222 for 25 $ \n",
      "Thankyou\n"
     ]
    }
   ],
   "source": [
    "totalquantity=input()\n",
    "itemcode=input()\n",
    "price=input()\n",
    "myorder=\"you bought {} pieces of item {} for {} $ \"\n",
    "print(myorder.format(totalquantity,itemcode,price))\n",
    "print('Thankyou')"
   ]
  },
  {
   "cell_type": "code",
   "execution_count": 135,
   "metadata": {},
   "outputs": [
    {
     "data": {
      "text/plain": [
       "True"
      ]
     },
     "execution_count": 135,
     "metadata": {},
     "output_type": "execute_result"
    }
   ],
   "source": [
    "# .isalpha function Return True if the string is an alphabetic string, False otherwise\n",
    "string='ABCDEFGH'\n",
    "string.isalpha()"
   ]
  },
  {
   "cell_type": "code",
   "execution_count": 137,
   "metadata": {},
   "outputs": [
    {
     "data": {
      "text/plain": [
       "True"
      ]
     },
     "execution_count": 137,
     "metadata": {},
     "output_type": "execute_result"
    }
   ],
   "source": [
    "#.isascii Return True if all characters in the string are ASCII, False otherwise\n",
    "string.isascii()"
   ]
  },
  {
   "cell_type": "code",
   "execution_count": 138,
   "metadata": {},
   "outputs": [
    {
     "data": {
      "text/plain": [
       "str"
      ]
     },
     "execution_count": 138,
     "metadata": {},
     "output_type": "execute_result"
    }
   ],
   "source": [
    "#type function returns the type of data\n",
    "type(string)"
   ]
  },
  {
   "cell_type": "code",
   "execution_count": 139,
   "metadata": {},
   "outputs": [
    {
     "data": {
      "text/plain": [
       "int"
      ]
     },
     "execution_count": 139,
     "metadata": {},
     "output_type": "execute_result"
    }
   ],
   "source": [
    "string1=12345\n",
    "type(string1)"
   ]
  },
  {
   "cell_type": "code",
   "execution_count": 140,
   "metadata": {},
   "outputs": [
    {
     "data": {
      "text/plain": [
       "tuple"
      ]
     },
     "execution_count": 140,
     "metadata": {},
     "output_type": "execute_result"
    }
   ],
   "source": [
    "string2=1.2,22,2.5\n",
    "type(string2)"
   ]
  },
  {
   "cell_type": "code",
   "execution_count": 147,
   "metadata": {},
   "outputs": [
    {
     "data": {
      "text/plain": [
       "'B9A9C'"
      ]
     },
     "execution_count": 147,
     "metadata": {},
     "output_type": "execute_result"
    }
   ],
   "source": [
    "#.join fucntion concatenate \n",
    "string9={\"A\" ,\"B\", \"C\"}\n",
    "az='9'\n",
    "az.join(string9)"
   ]
  },
  {
   "cell_type": "code",
   "execution_count": 148,
   "metadata": {},
   "outputs": [
    {
     "data": {
      "text/plain": [
       "'A     '"
      ]
     },
     "execution_count": 148,
     "metadata": {},
     "output_type": "execute_result"
    }
   ],
   "source": [
    "#remove spaces from leftside\n",
    "string8=\"         A     \"\n",
    "string8.lstrip()"
   ]
  },
  {
   "cell_type": "code",
   "execution_count": 151,
   "metadata": {},
   "outputs": [
    {
     "data": {
      "text/plain": [
       "'         A'"
      ]
     },
     "execution_count": 151,
     "metadata": {},
     "output_type": "execute_result"
    }
   ],
   "source": [
    "#remove space from rightside\n",
    "string8.rstrip()"
   ]
  },
  {
   "cell_type": "code",
   "execution_count": 152,
   "metadata": {},
   "outputs": [
    {
     "data": {
      "text/plain": [
       "'A'"
      ]
     },
     "execution_count": 152,
     "metadata": {},
     "output_type": "execute_result"
    }
   ],
   "source": [
    "#remove spaces from bothsides\n",
    "\n",
    "string8.rstrip().lstrip()"
   ]
  },
  {
   "cell_type": "code",
   "execution_count": 153,
   "metadata": {},
   "outputs": [
    {
     "data": {
      "text/plain": [
       "32"
      ]
     },
     "execution_count": 153,
     "metadata": {},
     "output_type": "execute_result"
    }
   ],
   "source": [
    " #Searches the string for a specified value and returns the last position of where it was found\n",
    "sentence3.rindex('check')"
   ]
  },
  {
   "cell_type": "code",
   "execution_count": 154,
   "metadata": {},
   "outputs": [
    {
     "data": {
      "text/plain": [
       "'My Name Is'"
      ]
     },
     "execution_count": 154,
     "metadata": {},
     "output_type": "execute_result"
    }
   ],
   "source": [
    "Name.title()"
   ]
  },
  {
   "cell_type": "code",
   "execution_count": 161,
   "metadata": {},
   "outputs": [
    {
     "data": {
      "text/plain": [
       "'000000000A'"
      ]
     },
     "execution_count": 161,
     "metadata": {},
     "output_type": "execute_result"
    }
   ],
   "source": [
    "#.zFill fills the string with a specified number of 0 values at the beginning\n",
    "string='A'\n",
    "string.zfill(10)"
   ]
  },
  {
   "cell_type": "code",
   "execution_count": 5,
   "metadata": {},
   "outputs": [
    {
     "name": "stdout",
     "output_type": "stream",
     "text": [
      "Enter marks obtained in subject 1: \n",
      "50\n",
      "Enter marks obtained in subject 2: \n",
      "9\n",
      "Enter marks obtained in subject 3: \n",
      "36\n",
      "Enter marks obtained in subject 4: \n",
      "85\n",
      "Enter marks obtained in subject 5: \n",
      "99\n",
      "Your Grade is C\n"
     ]
    }
   ],
   "source": [
    "#Write Python Program to Take in the Marks of 5 Subjects and Display the Grade\n",
    "\n",
    "print(\"Enter marks obtained in subject 1: \")\n",
    "mark1 = int(input())\n",
    "print(\"Enter marks obtained in subject 2: \")\n",
    "mark2 = int(input())\n",
    "print(\"Enter marks obtained in subject 3: \")\n",
    "mark3 = int(input())\n",
    "print(\"Enter marks obtained in subject 4: \")\n",
    "mark4 = int(input())\n",
    "print(\"Enter marks obtained in subject 5: \")\n",
    "mark5 = int(input())\n",
    "average = (mark1 + mark2 + mark3 + mark4 + mark5)/5\n",
    "if(average>=91 and average<=100):\n",
    "    print(\"Your Grade is A+\")\n",
    "elif(average>=81 and average<=90):\n",
    "    print(\"Your Grade is A\")\n",
    "elif(average>=61 and average<=80):\n",
    "    print(\"Your Grade is B\")\n",
    "elif(average>=41 and average<=60):\n",
    "    print(\"Your Grade is C\")    \n",
    "else:\n",
    "    print(\"Your Grade is F\")"
   ]
  },
  {
   "cell_type": "code",
   "execution_count": 10,
   "metadata": {},
   "outputs": [
    {
     "name": "stdout",
     "output_type": "stream",
     "text": [
      "1\n",
      "5\n",
      "7\n",
      "11\n",
      "13\n",
      "17\n",
      "19\n",
      "23\n",
      "25\n",
      "29\n",
      "31\n",
      "35\n",
      "37\n",
      "41\n",
      "43\n",
      "47\n",
      "49\n",
      "53\n",
      "55\n",
      "59\n",
      "61\n",
      "65\n",
      "67\n",
      "71\n",
      "73\n",
      "77\n",
      "79\n",
      "83\n",
      "85\n",
      "89\n"
     ]
    }
   ],
   "source": [
    "#Write Python Program to Print all Integers that Aren’t Divisible by Either 2 or 3 and Lie between 1 and 90.\n",
    "for n in range(0,90):\n",
    "    if(n%2!=0 and n%3!=0):\n",
    "        print(n)\n",
    "        "
   ]
  },
  {
   "cell_type": "code",
   "execution_count": 6,
   "metadata": {},
   "outputs": [
    {
     "name": "stdout",
     "output_type": "stream",
     "text": [
      "Enter side 1: 5\n",
      "Enter side 2: 9\n",
      "Enter side 3: 6\n",
      "Area of Triangle is 14.14\n"
     ]
    }
   ],
   "source": [
    "#Write Python Program to Find the Area of a Triangle Given All Three Sides\n",
    "\n",
    "side1=int(input(\"Enter side 1: \"))\n",
    "side2=int(input(\"Enter side 2: \"))\n",
    "side3=int(input(\"Enter side 3: \"))\n",
    "s=(side1+side2+side3)/2\n",
    "area=(s*(s-side1)*(s-side2)*(s-side3))**0.5\n",
    "print(\"Area of Triangle is %0.2f\" %area )"
   ]
  },
  {
   "cell_type": "code",
   "execution_count": 7,
   "metadata": {},
   "outputs": [
    {
     "name": "stdout",
     "output_type": "stream",
     "text": [
      "Enter the number of elements to be in the list:5\n",
      "Element: 5\n",
      "Element: 6\n",
      "Element: 9\n",
      "Element: 5\n",
      "Element: 48\n",
      "Largest even number: 48\n",
      "Largest odd number 9\n"
     ]
    }
   ],
   "source": [
    "#Write Python Program to Print Largest Even and Largest Odd Number in a List\n",
    "\n",
    "n=int(input(\"Enter the number of elements to be in the list:\"))\n",
    "b=[]\n",
    "for i in range(0,n):\n",
    "    a=int(input(\"Element: \"))\n",
    "    b.append(a)\n",
    "c=[]\n",
    "d=[]\n",
    "for i in b:\n",
    "    if(i%2==0):\n",
    "        c.append(i)\n",
    "    else:\n",
    "        d.append(i)\n",
    "c.sort()\n",
    "d.sort()\n",
    "count1=0\n",
    "count2=0\n",
    "for k in c:\n",
    "    count1=count1+1\n",
    "for j in d:\n",
    "    count2=count2+1\n",
    "print(\"Largest even number:\",c[count1-1])\n",
    "print(\"Largest odd number\",d[count2-1])"
   ]
  },
  {
   "cell_type": "code",
   "execution_count": 9,
   "metadata": {},
   "outputs": [
    {
     "name": "stdout",
     "output_type": "stream",
     "text": [
      "Enter size of list 1: \t5\n",
      "Enter any number: \t5\n",
      "Enter any number: \t6\n",
      "Enter any number: \t9\n",
      "Enter any number: \t4\n",
      "Enter any number: \t8\n",
      "\n",
      "Enter size of list 2: \t3\n",
      "Enter any number: \t48\n",
      "Enter any number: \t6\n",
      "Enter any number: \t3\n",
      "\n",
      "The Union of two lists is \t [3, 4, 5, 6, 8, 9, 48]\n"
     ]
    }
   ],
   "source": [
    "#Write Python Program to Find the Union of two Lists\n",
    "\n",
    "lst = []\n",
    "num = int(input(\"Enter size of list 1: \\t\"))\n",
    "for n in range(num):\n",
    "    numbers = int(input(\"Enter any number: \\t\"))  \n",
    "    lst.append(numbers)\n",
    "    \n",
    "lst2 = []\n",
    "print()\n",
    "num2 = int(input(\"Enter size of list 2: \\t\"))\n",
    "for n in range(num2):\n",
    "    numbers2 = int(input(\"Enter any number: \\t\"))\n",
    "    lst2.append(numbers2)\n",
    " \n",
    "print(\"\\nThe Union of two lists is \\t\", list(set().union(lst, lst2)))"
   ]
  },
  {
   "cell_type": "code",
   "execution_count": 8,
   "metadata": {},
   "outputs": [
    {
     "name": "stdout",
     "output_type": "stream",
     "text": [
      "Enter First Number: 5\n",
      "Enter Second Number: 9\n",
      "num1 is  9\n",
      "num2 is  5\n"
     ]
    }
   ],
   "source": [
    "#Write Python Program to Exchange the Values of Three Numbers Without Using a Temporary Variable\n",
    "\n",
    "num1= int(input(\"Enter First Number: \"))\n",
    "num2= int(input(\"Enter Second Number: \"))\n",
    "num1 += num2\n",
    "num2 = num1 - num2\n",
    "num1 = num1 - num2\n",
    "print(\"num1 is \",num1)\n",
    "print(\"num2 is \",num2)"
   ]
  },
  {
   "cell_type": "code",
   "execution_count": null,
   "metadata": {},
   "outputs": [],
   "source": []
  }
 ],
 "metadata": {
  "kernelspec": {
   "display_name": "Python 3",
   "language": "python",
   "name": "python3"
  },
  "language_info": {
   "codemirror_mode": {
    "name": "ipython",
    "version": 3
   },
   "file_extension": ".py",
   "mimetype": "text/x-python",
   "name": "python",
   "nbconvert_exporter": "python",
   "pygments_lexer": "ipython3",
   "version": "3.7.3"
  }
 },
 "nbformat": 4,
 "nbformat_minor": 2
}
